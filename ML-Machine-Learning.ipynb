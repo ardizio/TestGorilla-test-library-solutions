{
 "cells": [
  {
   "cell_type": "markdown",
   "metadata": {},
   "source": [
    "I am applying the K-neaest neighbors regressor and want the value of the new observation to be qeual to the average value of all data points.\n",
    "\n",
    "What should be the number of neighbors for the K-nearest neigbor regressor?\n",
    "\n",
    "[X] Number of current data points\n",
    "\n",
    "[] One\n",
    "\n",
    "[] Number of current data points minus one\n",
    "\n",
    "[] Number of current data points plus one"
   ]
  },
  {
   "cell_type": "markdown",
   "metadata": {},
   "source": [
    "--- \n",
    "I am applying gender classification and want to estimate the portion of correctly classified observation\n",
    "\n",
    "Which metric should I use?\n",
    "\n",
    "[] Duality\n",
    "\n",
    "[X] Accuracy\n",
    "\n",
    "[] Precision\n",
    "\n",
    "[] Recall"
   ]
  },
  {
   "cell_type": "markdown",
   "metadata": {},
   "source": [
    "---\n",
    "I am appluing a decision tree regressor on house pricees and have got 12345 as the value of the residual sum of squares (RSS)\n",
    "\n",
    "How should I find an acceptable value for RSS?\n",
    "\n",
    "[] Find the highest price and set it as the maximal thresold for RSS\n",
    "\n",
    "[] Calculate the average house price and compute the difference\n",
    "\n",
    "[] Find the lowest price and set it as the minimal thresold for RSS\n",
    "\n",
    "[] Calculate the median house price and compute the difference"
   ]
  },
  {
   "cell_type": "markdown",
   "metadata": {},
   "source": [
    "---\n",
    "I am applying k-means clustering on geospatial data of cities in the USA to determine cities falling in the same climate region.\n",
    "The available data contains latitudes and longitudes of cities.\n",
    "\n",
    "Which distance metric should I use?\n",
    "\n",
    "[] Actual distan ce between cities using existing roads [not always feasible]\n",
    "\n",
    "[] Manhattan diastance using latitude and longitude [not spherical]\n",
    " \n",
    "[] Correlation coefficient using latitude and longitude [linear relation]\n",
    "\n",
    "[] Euclidean distance using latitude and longitude [no geo spatial]"
   ]
  }
 ],
 "metadata": {
  "language_info": {
   "name": "python"
  }
 },
 "nbformat": 4,
 "nbformat_minor": 2
}
