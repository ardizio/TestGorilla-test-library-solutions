{
 "cells": [
  {
   "cell_type": "markdown",
   "metadata": {},
   "source": [
    "I am working on a complex binary classification problem using sagemaker Autopilot,\n",
    "where the positive cases represent only 5% of the total observations. After the training process, \n",
    "I am unsatisfied with the results and think my model is biased towards the majority class.\n",
    "\n",
    "What approach should I use to improve the results in the shortes amount of time?\n",
    "\n",
    "[] Increase the number of generate candidate models\n",
    "\n",
    "[] Manually balance the classes before inputting to Autopilot\n",
    "\n",
    "[X] Use the class `class imbalance` hyperparameters of Autopilot settings\n",
    "\n",
    "[] Apply training on separate batches of the whole data set."
   ]
  },
  {
   "cell_type": "markdown",
   "metadata": {},
   "source": [
    "---\n",
    "\n",
    "I am a ML engineer aand I am developing an algorithm thet is unavailable in the SageMaker built-in algos.\n",
    "The algorithm is implemented in pyhton using scikit-learn. and pandas libraries.\n",
    "\n",
    "How shoud you train the model on SageMaker?\n",
    "\n",
    "[X] Use SageMaker Python SDK to create a Script mode training job\n",
    "\n",
    "[] Upload the Python script to S3 bucket and use it during training\n",
    "\n",
    "[] Make a copy of the algorithm with one of SageMaker's built-in solutions\n",
    "\n",
    "[] Run the script using  AWS Lambda "
   ]
  },
  {
   "cell_type": "markdown",
   "metadata": {},
   "source": [
    "---\n",
    "\n",
    "I have deployed a ML model in SageMaker and enabled data capturing.\n",
    "Now I want to analyze the captured data and compare with the baseline statistic.\n",
    "\n",
    "How would I complete the taks?\n",
    "\n",
    "[X] Use SageMaker Model Monitor's analysis and baselining the jobs.\n",
    "\n",
    "[] Analyze the captured data using pandas or other libraries\n",
    "\n",
    "[] Analyze data using AWS guide\n",
    "\n",
    "[] Use AWS QuickSight's analysis and baselining jobs"
   ]
  },
  {
   "cell_type": "markdown",
   "metadata": {},
   "source": [
    "---\n",
    "\n",
    "I am a ML engineer at a retail company and have been assigned to forecast inventory demand for the next quarter based on past sales data. Tehdata has complex patterns, multiple seasonalities and relevant time varying variables like promotional events and holidays\n",
    "\n",
    "What Approach should I use?\n",
    "\n",
    "[x] Use Amazon Forecast with the DeepAR+ algorithm (SUITED FOR TIME SERIES)\n",
    "\n",
    "[] Use Amazon Forecast wuth the Prophet algorithm\n",
    "\n",
    "[] Use Amazon Forecast with a long short-term memory (LSTM) network\n",
    "\n",
    "[] Using Amazon Forecast with a moving average method"
   ]
  }
 ],
 "metadata": {
  "language_info": {
   "name": "python"
  }
 },
 "nbformat": 4,
 "nbformat_minor": 2
}
