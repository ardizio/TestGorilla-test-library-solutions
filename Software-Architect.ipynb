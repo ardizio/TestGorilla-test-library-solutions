{
 "cells": [
  {
   "cell_type": "markdown",
   "metadata": {},
   "source": [
    "I have been asked to develop an architecture for platform-independent,\n",
    "browser-based, online two-player game. I have benn given the following requirements:\n",
    "\n",
    "1. The rules if the game(who starts the game, valid moves, when the game ends, how to select the winner)\n",
    "2. The browser that should support the game\n",
    "3. The accessibility of the game: it should be accessible to anyone for free, without logging or purchasing\n",
    "4. Target kaunch date\n",
    "\n",
    "Wich of the following statement is true?\n",
    "\n",
    "[ ] The requirements fo not specify the OS to besupported\n",
    "\n",
    "[ ] The requirements do not specify it is  a multi player game\n",
    "\n",
    "[ ] The requirements do not specify wheter it is a desktop based game\n",
    "\n",
    "[X] There is enough information to begin working on the software/UI design"
   ]
  },
  {
   "cell_type": "markdown",
   "metadata": {},
   "source": [
    "---\n",
    "My company plans to use cloud data storage solutions for storing some sensitive business data.\n",
    "I have to recommend that the company encrypt the data before uploading it to the cloud\n",
    "\n",
    "Wich of the following solutions would you recommend?\n",
    "\n",
    "[X] Encrypt data using AES algo simm\n",
    "\n",
    "[ ] Encrypt data using RSA algo asym\n",
    "\n",
    "[ ] Use Base64\n",
    "\n",
    "[ ] Use a digital signature like ECDSA"
   ]
  },
  {
   "cell_type": "markdown",
   "metadata": {},
   "source": [
    "---\n",
    "I am overseing the development of a reporting project for a large e-commerce company with hundres of thousands of affiliates bringing in the traffic and orders. Every month, the company generates a report on the fees to be paid per affiliate, and a report containing the list of orders per affiliate (and some additional details) in CSV/PDF format.\n",
    "On average, each report will be accessed two or three times in its lifetime.\n",
    "\n",
    "100K+ affiliates\n",
    "for each affiliate fees to be paid and details\n",
    "\n",
    "Wich storage solution do you propose for the reports?\n",
    "\n",
    "[ ] Use a relational database to store the CSV reports as one of the columns\n",
    "\n",
    "[ ] Use a key-value store like redis to store the contensts of the report\n",
    "\n",
    "[X] Use a blob store like amazons S3/Google cloud platform to store the report and have a reference to the file in the db\n",
    "\n",
    "[ ] Use a NoSQL storage like Cassandra"
   ]
  },
  {
   "cell_type": "markdown",
   "metadata": {},
   "source": [
    "---\n",
    "My company has recently decided to transition from a monolithic architecture to a service-oriented architecture.\n",
    "The API team has been working on the transition and already has a working service with data stored in its own database.\n",
    "The UI tema is just getting started and wants some functionalities that are lacking in the API at the moment.\n",
    "\n",
    "What do you suggest in this scenario?\n",
    "\n",
    "[X] Implement the required APIs in the service and let the UI team access data trough the APIs\n",
    "\n",
    "[ ] Have the UI connect to the database owned by the API team directly. Since the company's UI, there should be no issue.\n",
    "\n",
    "[ ] Periodically copy all the data from the database of the API team to a new database owned by the UI team and use this new db for the UI.\n",
    "\n",
    "[ ] Implement required UI logic in the API service itself."
   ]
  }
 ],
 "metadata": {
  "language_info": {
   "name": "python"
  }
 },
 "nbformat": 4,
 "nbformat_minor": 2
}
