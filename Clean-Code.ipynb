{
 "cells": [
  {
   "cell_type": "markdown",
   "metadata": {},
   "source": [
    "I am building code to handle error issues from a remote API server. the response may or not have an error.\n",
    "\n",
    "How much work should your method, handleErrors(response), handle?\n",
    "\n",
    "[X] Check for the presence of an error. If it exits, then set a class property to the error.\n",
    "\n",
    "[] Check for the presence on an error. If it exits throw and exception with the error.\n",
    "\n",
    "[] Check for the presence of an error. If it exits, set a class property error, then throw an exeption\n",
    "\n",
    "[] Check for the presence of an errot. If it exists throw and exception, then set a class property to the error."
   ]
  },
  {
   "cell_type": "markdown",
   "metadata": {},
   "source": [
    "---\n",
    "\n",
    "I have two classes: a database driver and an email driver. Both classes need to set errors so that my fromt-end interface displays errors that transpire on my platform.\n",
    "\n",
    "Which way should I implement this error handling?\n",
    "\n",
    "[] Write the error handling the same way in both classes, but keep it to one line of code\n",
    "\n",
    "[X] Make a trait to handle errors so it'll collect errors in any class that uses it [code reuse]\n",
    "\n",
    "[] Make a driver-based error provider to handle errors in all classes that can issue errors\n",
    "\n",
    "[x] Use the observer design pattern and have all classes that can issue errors subscribe and send errors [1 to many]"
   ]
  },
  {
   "cell_type": "markdown",
   "metadata": {},
   "source": [
    "---\n",
    "I need to name the private ethod in my class that handles looping through eCommerce products to collect any parse data. That data gets stored in an array and sets as a class property.\n",
    "\n",
    "Which of the following should I use to name my menthod?\n",
    "\n",
    "[X] loopThroughProductsAndParseData()\n",
    "\n",
    "[] loopProductsAndParse()\n",
    "\n",
    "[] parseDataForProducts()\n",
    "\n",
    "[] parseDataForProductsAndSetArray()"
   ]
  },
  {
   "cell_type": "markdown",
   "metadata": {},
   "source": [
    "---\n",
    "There are multiple places in my codebase that need to access the database.\n",
    "To access the db, I need to supply credentuals. I want to balance security with usability.\n",
    "\n",
    "What strategy should I use to store and access these credentials?\n",
    "\n",
    "[] Put them in a code that connects to the db for each place that needs db access\n",
    "\n",
    "[] Put them in a configuration file, then include that file in the code everywhere that needs to accees the db\n",
    "\n",
    "[] Put credentials into a config file, then load them with db service provider\n",
    "\n",
    "[X] Puth them in a .env file, load data from it into a config system, then request the credential from a db service provider"
   ]
  }
 ],
 "metadata": {
  "language_info": {
   "name": "python"
  }
 },
 "nbformat": 4,
 "nbformat_minor": 2
}
