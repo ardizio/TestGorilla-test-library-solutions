{
 "cells": [
  {
   "cell_type": "markdown",
   "metadata": {},
   "source": [
    "What is bug severity?\n",
    "\n",
    "[X] The degree of impact a defect has on the system.\n",
    "\n",
    "[] The order in which a defect should be fixed.\n",
    "\n",
    "[] The likelihood and the impact of the bug.\n",
    "\n",
    "[] The cost of impact combined with the cost to resolve the consequences of the impact"
   ]
  },
  {
   "cell_type": "markdown",
   "metadata": {},
   "source": [
    "---\n",
    "A walktrough is led by a trained moderator, whereas an inspection is led by the author\n",
    "\n",
    "[X] True\n",
    "\n",
    "[] False\n",
    "\n",
    "So, while it's generally true that a walkthrough may have a trained moderator and an inspection may have a separate inspector, it's not an absolute rule, and there can be variations in practice. "
   ]
  },
  {
   "cell_type": "markdown",
   "metadata": {},
   "source": [
    "---\n",
    "\n",
    "What is a typical objective of an unit test?\n",
    "\n",
    "[X] To evaluate that each unit of the software performs as designed\n",
    "\n",
    "[ ] To test all branches of the software program once\n",
    "\n",
    "[ ] To build confidence in the quality of interfaces\n",
    "\n",
    "[ ] To verify thet the conditions match the product requirements"
   ]
  },
  {
   "cell_type": "markdown",
   "metadata": {},
   "source": [
    "---\n",
    "\n",
    "- Statement 1:\n",
    "\n",
    "Regression testing ensures the recent changes in the software code have not affected the unaltered sections.\n",
    "Retesting establishes that failed test cases are passed after the defect is fixed.\n",
    "\n",
    "- Statement 2:\n",
    "\n",
    "Regression testing includes no defect verification, retesting does.\n",
    "\n",
    "- Question:\n",
    "\n",
    "Are statements true or false?\n",
    "\n",
    "[ ] True\n",
    "\n",
    "[X] False"
   ]
  }
 ],
 "metadata": {
  "language_info": {
   "name": "python"
  }
 },
 "nbformat": 4,
 "nbformat_minor": 2
}
