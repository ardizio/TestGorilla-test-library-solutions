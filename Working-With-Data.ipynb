{
 "cells": [
  {
   "cell_type": "markdown",
   "metadata": {},
   "source": [
    "How would you find the mean of a set of numbers?\n",
    "\n",
    "[ ] Find the number that appears more frequently.\n",
    "\n",
    "[X] Calculate the sum of the numbers and divide by the amount of numbers in te set.\n",
    "\n",
    "[ ] Find the number halfway between the smallest number and the largest number.\n",
    "\n",
    "[ ] Put all the numbers in ascending order and find the number in the middle."
   ]
  },
  {
   "cell_type": "markdown",
   "metadata": {},
   "source": [
    "---\n",
    "\n",
    "I am working as a marketing analyst for an ice cream company,\n",
    "and I am presented with data from a survey on people's favourite ice cream flavors.\n",
    "In the suvey, people were askd to selct their fvourite flavor from a list of 25 options,\n",
    "over 800 people responded. \n",
    "My manager asked me to produce a quick chart to illustrate and compare the popularity of all the flavours:\n",
    "\n",
    "Wich type of chart would be suited ro the task?\n",
    "\n",
    "[ ] Scatter Plot (show the relationship between two continuous variables)\n",
    "\n",
    "[ ] Pie Chart (show the contribution of various parts to a whole)\n",
    "\n",
    "[X] Bar Chart\n",
    "\n",
    "[ ] Line Chart (display data points over time or other continuous intervals)"
   ]
  }
 ],
 "metadata": {
  "language_info": {
   "name": "python"
  }
 },
 "nbformat": 4,
 "nbformat_minor": 2
}
