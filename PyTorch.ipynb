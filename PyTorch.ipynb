{
 "cells": [
  {
   "cell_type": "markdown",
   "metadata": {},
   "source": [
    "I have a tensor `y` of shape 1234x25 and i want to refactor it so that each row will contain 50 values\n",
    "\n",
    "Which operation should I use?\n",
    "\n",
    "[] y.shape(617, 50) (invalid operation)\n",
    "\n",
    "[] y.reshape(1,-2) (doesn't ensure each row contains 50 values)\n",
    "\n",
    "[X] y.view(-1,50)\n",
    "\n",
    "[] y.transform(1,2) (invalid operation)"
   ]
  },
  {
   "cell_type": "markdown",
   "metadata": {},
   "source": [
    "---\n",
    "\n",
    "I want to apply data augmentation on a dataset with images.\n",
    "The images have already been converted to tensors. \n",
    "Now I just want to center, thus augmenting several new images from each tensor.\n",
    "The augmented images will not take any other modifications.\n",
    "\n",
    "Wich built in transform classs in PyTorch should I use?\n",
    "\n",
    "[] RandomCrop (transform randomly crops an image or tensor to a specified size)\n",
    "\n",
    "[] CornerCrop (transform is not a standard built-in transform in PyTorch)\n",
    "\n",
    "[] FiveCrop (transform crops an image or tensor to five different crops 4 corners and 1 from the center. multi-crop testing)\n",
    "\n",
    "[X] CenterCrop (transformation in PyTorch is used to crop the center portion of an image or tensor)"
   ]
  },
  {
   "cell_type": "markdown",
   "metadata": {},
   "source": [
    "---\n",
    "\n",
    "I have created a MaxPool layer by executing the following code\n",
    "\n",
    "`nn.MaxPool1d(1, stride=2)`  [MANTAIN,REDUCE BY 2] \n",
    "\n",
    "Now I want to test the execution of the layer by providing a tensor of shape (4,2) as an input to it\n",
    "\n",
    "\n",
    "What is the shape of the output tensor?\n",
    "\n",
    "[] (4,0)\n",
    "\n",
    "[] (2,1)\n",
    "\n",
    "[X] (4,1)\n",
    "\n",
    "[] (2,0)"
   ]
  },
  {
   "cell_type": "markdown",
   "metadata": {},
   "source": [
    "---\n",
    "\n",
    "I have a tensor if shape 10x20x30, and I want to flatten it into a two-dimensional tensor of shape 200x30 to use it in a neural network. I want to use the built0in Flatten class available in PyTorch.\n",
    "\n",
    "How should I initialize the class?\n",
    "\n",
    "[] Flatten()\n",
    "\n",
    "[] Flatten(0)\n",
    "\n",
    "[] Flatten(0, 1)\n",
    "\n",
    "[X] Flatten(0, -1)"
   ]
  }
 ],
 "metadata": {
  "language_info": {
   "name": "python"
  }
 },
 "nbformat": 4,
 "nbformat_minor": 2
}
