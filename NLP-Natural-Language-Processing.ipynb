{
 "cells": [
  {
   "cell_type": "markdown",
   "metadata": {},
   "source": [
    "I want to enrich and deduplicate a prouct catalog to improve search funnctionality.\n",
    "The catalog includes columns such as product code, name, price and vendor name,  and there may be mistakes such as typos in the data due to manual daata entry.\n",
    "\n",
    "Which of the following methods should I use to complete the data acquisition?\n",
    "\n",
    "[] Embeddding usage from pre trained lnaguage models\n",
    "\n",
    "[] Vendor catalog scraping\n",
    "\n",
    "[] Back translation\n",
    "\n",
    "[X] Blocking [deduplicates and cleaning] "
   ]
  },
  {
   "cell_type": "code",
   "execution_count": 1,
   "metadata": {},
   "outputs": [
    {
     "name": "stdout",
     "output_type": "stream",
     "text": [
      "Potential duplicates:\n",
      "       0    1\n",
      "2 0  1.0  1.0\n",
      "4 0  1.0  1.0\n",
      "  2  1.0  1.0\n",
      "5 1  1.0  1.0\n"
     ]
    }
   ],
   "source": [
    "import pandas as pd\n",
    "import recordlinkage as rl  #import it\n",
    "\n",
    "# Sample product catalog data\n",
    "data = {\n",
    "    'product_code': [1, 2, 3, 4, 5, 6],\n",
    "    'product_name': ['Widget A', 'Widget B', 'Widget A', 'Widget C', 'Widget D', 'Widget E'],\n",
    "    'price': [10.99, 15.99, 11.99, 9.99, 19.99, 12.99],\n",
    "    'vendor_name': ['Vendor X', 'Vendor Y', 'Vendor X', 'Vendor Z', 'Vendor X', 'Vendor Y']\n",
    "}\n",
    "\n",
    "df = pd.DataFrame(data)\n",
    "\n",
    "# Create an indexer\n",
    "indexer = rl.Index()\n",
    "\n",
    "# Block on product name and vendor name\n",
    "indexer.block(left_on='product_name', right_on='product_name')\n",
    "indexer.block(left_on='vendor_name', right_on='vendor_name')\n",
    "\n",
    "# Generate pairs of potential duplicates\n",
    "pairs = indexer.index(df)\n",
    "\n",
    "# Initialize comparison\n",
    "compare = rl.Compare()\n",
    "\n",
    "# Compare product names and vendor names for similarity\n",
    "compare.string('product_name', 'product_name', method='jarowinkler', threshold=0.85)\n",
    "compare.string('vendor_name', 'vendor_name', method='jarowinkler', threshold=0.85)\n",
    "\n",
    "# Calculate the similarity for each pair of potential duplicates\n",
    "features = compare.compute(pairs, df)\n",
    "\n",
    "# Link records with a similarity score above a threshold\n",
    "matches = features[features.sum(axis=1) > 1.5]\n",
    "\n",
    "print(\"Potential duplicates:\")\n",
    "print(matches)"
   ]
  },
  {
   "cell_type": "markdown",
   "metadata": {},
   "source": [
    "---\n",
    "\n",
    "I have represented several string values as vectors and now want to calculate the similarity between them using the Cosine similarity metric to group similar words. In the currently observed pair the two vectors are the followung\n",
    "\n",
    "[0,1,1,0,1]\n",
    "and\n",
    "[1,1,0,0,1]\n",
    "\n",
    "What is the cosine similarity between these two vectors?\n",
    "\n",
    "[] 1/3\n",
    "\n",
    "[] 2/5\n",
    "\n",
    "[] 2/3\n",
    "\n",
    "[] 3/5\n",
    "\n",
    "\n",
    "Cosine Similarity (A, B) = (A · B) / (||A|| * ||B||)\n",
    "\n",
    "A · B = (01) + (11) + (10) + (00) + (1*1) = 1\n",
    "\n",
    "||A|| = √(0^2 + 1^2 + 1^2 + 0^2 + 1^2) = √3\n",
    "\n",
    "||B|| = √(1^2 + 1^2 + 0^2 + 0^2 + 1^2) = √3\n",
    "\n",
    "Cosine Similarity (A, B) = 1 / (√3 * √3) = 1 / 3"
   ]
  },
  {
   "cell_type": "markdown",
   "metadata": {},
   "source": [
    "---\n",
    "I am going to apply keyphrase extraction on a suser review data of my company products.\n",
    "To use the algo designed by my team, I need to apply word tokenization on the described data.\n",
    "\n",
    "Wich operation is a prerequisite for applying word tokenisation?\n",
    "\n",
    "[] syntactic parsin\n",
    "\n",
    "[] Speech tagging\n",
    "\n",
    "[X] Sentence segmentation\n",
    "\n",
    "[] Coreferece resolution"
   ]
  },
  {
   "cell_type": "markdown",
   "metadata": {},
   "source": [
    "---\n",
    "Treu or False: in modern search engines, the creawler component is responsible for indexing the conten so the searcher can quickly retrieve it later.\n",
    "\n",
    "[X] False\n",
    "\n",
    "[] True"
   ]
  }
 ],
 "metadata": {
  "kernelspec": {
   "display_name": "Python 3",
   "language": "python",
   "name": "python3"
  },
  "language_info": {
   "codemirror_mode": {
    "name": "ipython",
    "version": 3
   },
   "file_extension": ".py",
   "mimetype": "text/x-python",
   "name": "python",
   "nbconvert_exporter": "python",
   "pygments_lexer": "ipython3",
   "version": "3.11.6"
  }
 },
 "nbformat": 4,
 "nbformat_minor": 2
}
