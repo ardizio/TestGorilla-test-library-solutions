{
 "cells": [
  {
   "cell_type": "markdown",
   "metadata": {},
   "source": [
    "I am a data engineer at a multinational company that collects data from multiple sources like IoT devices, social media, and internal databases. The data varies in format from structured to unstructured types, and I need to setup am ETL architecure for it.\n",
    "\n",
    "Wich ETL architecture should I use?\n",
    "\n",
    "[] Single Tier [Tier 1 - Extraction and Initial Transformation ]\n",
    "\n",
    "[X] Two-tier [Tier 2 - Centralized Transformation and Loading (Off-Premises)]\n",
    "\n",
    "[] On-Permises\n",
    "\n",
    "[] Off-permises"
   ]
  },
  {
   "cell_type": "markdown",
   "metadata": {},
   "source": [
    "---\n",
    "I am a data engineer managing ETL process for an e-commerce company.\n",
    "Recently, the transformation stage of the ETL process has been taking a significantly longer amount of time due to increased data volume and complexity. I have been tasked with imporving the performance of this step.\n",
    "\n",
    "What should I do?\n",
    "\n",
    "[X] Simplify or optimize the transofrmation logic\n",
    "\n",
    "[] Increase the network bandwidth\n",
    "\n",
    "[] Upgrade the storage capacity of the data wharehouse\n",
    "\n",
    "[] Reschedule ETL process to avoid competition"
   ]
  },
  {
   "cell_type": "markdown",
   "metadata": {},
   "source": [
    "---\n",
    "\n",
    "The performance of my organization's data pipeline has recentlyhad significant degradation, affecting the overall data processing speed. \n",
    "After investigating, I suspect the problem might lie in the data transformation phase.\n",
    "\n",
    "What should I do?\n",
    "\n",
    "[] Increase the processing power of the system\n",
    "\n",
    "[X] Profile the transformations operations [1st step]\n",
    "\n",
    "[] Redefine the transformation operations [2nd step]\n",
    "\n",
    "[] Delete old records"
   ]
  },
  {
   "cell_type": "markdown",
   "metadata": {},
   "source": [
    "---\n",
    "\n",
    "I have been tasked with deisgning a failure recovery strategy for mu company's ETL pipeline.\n",
    "The pipeline handles multiple large datasets and performs a series of complex transformations.\n",
    "\n",
    "Wich one is the best general solution?\n",
    "\n",
    "[] Update the ETL software regularly\n",
    "\n",
    "[X] Implement a checkpoint mechanism \n",
    "\n",
    "[] Use high-performance hardware\n",
    "\n",
    "[] Use additional computational resources during peak hours"
   ]
  }
 ],
 "metadata": {
  "language_info": {
   "name": "python"
  }
 },
 "nbformat": 4,
 "nbformat_minor": 2
}
