{
 "cells": [
  {
   "cell_type": "markdown",
   "metadata": {},
   "source": [
    "I am managing a program that requires co-ordinating with multiple stakeholders, includinf external vendors.\n",
    "However, an external stakeholder is missing their deadlines, creating overall delays\n",
    "\n",
    "What action should I take?\n",
    "\n",
    "[EASY] Inform the stakeholder that they need to get in track immediately\n",
    "\n",
    "[] Inform the stakeholder of the impact their delay is causing\n",
    "\n",
    "[I WILL DO] Create a mitigation plan with the external stakeholder\n",
    "\n",
    "[] Escalate the issue to the stakeholder's manager and ask for the assistance"
   ]
  },
  {
   "cell_type": "markdown",
   "metadata": {},
   "source": [
    "---\n",
    "\n",
    "As program manager leading a team of software engineers, I have recently assigned tasks.\n",
    "A higly competent engineer is frustrated that they have been asssigned a task they descibe as 'repetitive ans boring'\n",
    "and has requested me to assign them a different task. However, they are the pnly memeber og the team woth the knowledge required to complete it.\n",
    "\n",
    "What action should I take?\n",
    "\n",
    "[EASY] Empathize with the engineer, but ask them to complete the task explaining the critical nature of the job\n",
    "\n",
    "[YES] Work with the engineer to identify wheter the crearion of a transition plan would be feasible\n",
    "\n",
    "[$ NO] Refuse the engineer's request, but promise them additional bonus for continuing to work on the task\n",
    "\n",
    "[] Commit to consider the engineer's request at the end of the quarter, explaining the immediate importance of the task"
   ]
  },
  {
   "cell_type": "markdown",
   "metadata": {},
   "source": [
    "--- \n",
    "My product manager has asked for a new feature to be built. \n",
    "However, me and my team feel this feature would not benefit the users, and efforts should be focused on other features in the backlog that will have a bigger impact.\n",
    "\n",
    "What action should I take?\n",
    "\n",
    "[] Implement new feature\n",
    "\n",
    "[] Refuse to work in the new feature\n",
    "\n",
    "[] Explain rationale to my PM in an attempt to react a consensus\n",
    "\n",
    "[X] Request my PM to reconsider because there is consensus within the team on priority"
   ]
  },
  {
   "cell_type": "markdown",
   "metadata": {},
   "source": [
    "---\n",
    "\n",
    "I and a colleague are ateending a leadership off-site to discuss my product's roadmap.\n",
    "In discussion with other leaders, I have both started to realize that few of them are aware if the program I am leading.\n",
    "A colleague has just asked me what should I do about it.\n",
    "\n",
    "What should I tell them?\n",
    "\n",
    "[] Give it time. The great work are doing will speak for itself\n",
    "\n",
    "[] Start sharing details of our program with everyone I speak there\n",
    "\n",
    "[X] Let's create a communication plan for hot to keep stakeholders updated\n",
    "\n",
    "[]I'm going to set up regular ono-t-one meeetings with my manager so I can share updates"
   ]
  }
 ],
 "metadata": {
  "language_info": {
   "name": "python"
  }
 },
 "nbformat": 4,
 "nbformat_minor": 2
}
