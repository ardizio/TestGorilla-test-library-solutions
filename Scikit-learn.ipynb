{
 "cells": [
  {
   "cell_type": "markdown",
   "metadata": {},
   "source": [
    "I am applying linear regression using the built in sklearn.linera_model,LinearRegression class.\n",
    "I want the fittedline to pass trough the origin of all dimensions: (0,0,...,0) point.\n",
    "\n",
    "How should the class be initalized?\n",
    "\n",
    "[] LinearRegression()\n",
    "\n",
    "[X] LinearRegression(firt_intercept=False) ( instructs lr model not to fit an intercept term, ensures that the reg line goes through the origin. )\n",
    "\n",
    "[] LinearRegression(positive=True)\n",
    "\n",
    "[] LinearRegression(intercept=0)\n",
    "\n"
   ]
  },
  {
   "cell_type": "markdown",
   "metadata": {},
   "source": [
    "---\n",
    "\n",
    "I am creating a support vector machine model using the built in sklearn.svm.SVR class\n",
    "and I want the kernel coefficient to always be set ot (1/number of independent variables)\n",
    "\n",
    "How should the class be initialized?\n",
    "\n",
    "[] SVR()\n",
    "\n",
    "[] SVR(scale='auto')\n",
    "\n",
    "[] SVR(gamma='auto') [??makes it use the default value of (1/number of independent variables) for the kernel coefficient, which is what you want in this case.]\n",
    "\n",
    "[] SVR(coef0='auto')"
   ]
  },
  {
   "cell_type": "markdown",
   "metadata": {},
   "source": [
    "---\n",
    "\n",
    "I am creating a cluster model using the built-in sklearn.cluster,Kmeans class,\n",
    "and I want to manually specify then initial centroids of the class. \n",
    "There are eight features in the dataset, four target classes and 120 samples\n",
    "\n",
    "What should be the shape of a data structure storing the initial centroids?\n",
    "`Centroids are the center points of the clusters in a K-means clustering model. `\n",
    "\n",
    "[X] (4,8)\n",
    "\n",
    "[] (4,120)\n",
    "\n",
    "[] (8,120)\n",
    "\n",
    "[] (4,8,120)"
   ]
  },
  {
   "cell_type": "markdown",
   "metadata": {},
   "source": [
    "---\n",
    "True or False: When creating a ML model pipeline using the built in sklearn.pipeline.Pipeline class,\n",
    "each data transformation or model class should be provided as separate argument to the class constructor.\n",
    "\n",
    "[] True\n",
    "\n",
    "[X] False"
   ]
  }
 ],
 "metadata": {
  "language_info": {
   "name": "python"
  }
 },
 "nbformat": 4,
 "nbformat_minor": 2
}
