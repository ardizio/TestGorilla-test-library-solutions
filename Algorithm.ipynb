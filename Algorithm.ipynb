{
 "cells": [
  {
   "cell_type": "markdown",
   "metadata": {},
   "source": [
    "I have a database with employee ID numbers and I am trying to locate a person with a specific ID number.\n",
    "Toaccess the location of an ID takes a constant amount of time.\n",
    "\n",
    "What is the time complexity of locating the ID?\n",
    "\n",
    "[X] 0(1)\n",
    "\n",
    "[] 0(o)\n",
    "\n",
    "[] omega(0)\n",
    "\n",
    "[] omega(c)"
   ]
  },
  {
   "cell_type": "markdown",
   "metadata": {},
   "source": [
    "---\n",
    "\n",
    "I am tring ro draw the recursion tree of an algorithm.\n",
    "The algorithm does a recursive call to the left or the right neigbor of the current number called from the sequence at each step.\n",
    "\n",
    "What is the greatest number of brances each node in the recursive tree can have?\n",
    "\n",
    "[] 1\n",
    "\n",
    "[X] 2\n",
    "\n",
    "[] 3\n",
    "\n",
    "[] 4"
   ]
  },
  {
   "cell_type": "markdown",
   "metadata": {},
   "source": [
    "---\n",
    "\n",
    "I am tring to pick people to from a team for a project.\n",
    "I want to minimize the overall salary requirements of the team. There is only a limit on how many people can be picked from each department. I am using a greedy alofrithm.\n",
    "\n",
    "What is the greedy choice property for picking the members of the team?\n",
    "\n",
    "[] Pick only the people with le lowest salary available from randomly picked departments.\n",
    "\n",
    "[] Pick the people with the lowest salary available from the department having the lowest avverage salary\n",
    "\n",
    "[] Pick the people with the lowest salary available from the department having the lowes median salary\n",
    "\n",
    "[X] Pick the person with the lowest salary available from each department\n",
    "\n",
    "GREEDY BE GREDY TILL THE END!"
   ]
  },
  {
   "cell_type": "markdown",
   "metadata": {},
   "source": [
    "---\n",
    "\n",
    "I am applying breadth-first search on a connected graph, where vertices represent different departments in the company and edges represent the sheduled meetings between those departments. The graph has V vertics and E edges.\n",
    "\n",
    "What is the time complexity of listing allt he meetings by traversinf the graph?\n",
    "\n",
    "[] O(V)\n",
    "\n",
    "[] O[E]\n",
    "\n",
    "[X] O(V+E) (In a BFS traversal, you visit each vertex and its adjacent edges exactly once)\n",
    "\n",
    "[] O(v*E)"
   ]
  }
 ],
 "metadata": {
  "language_info": {
   "name": "python"
  }
 },
 "nbformat": 4,
 "nbformat_minor": 2
}
