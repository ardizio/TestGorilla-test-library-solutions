{
 "cells": [
  {
   "cell_type": "markdown",
   "metadata": {},
   "source": [
    "I want to initialize a repo in an existing dir\n",
    "\n",
    "Which command achieves this?\n",
    "\n",
    "[] git clone\n",
    "\n",
    "[X] git init\n",
    "\n",
    "[] git create\n",
    "\n",
    "[] git fetch"
   ]
  },
  {
   "cell_type": "markdown",
   "metadata": {},
   "source": [
    "---\n",
    "I want to create and switch to a new branch called new-branches\n",
    "\n",
    "Wic comman acieves this?\n",
    "\n",
    "\n",
    "[] git branch -D new-branches\n",
    "\n",
    "[] git checkout new-branches\n",
    "\n",
    "[X] git checkout -b new-branches\n",
    "\n",
    "[] git create new-branches"
   ]
  },
  {
   "cell_type": "markdown",
   "metadata": {},
   "source": [
    "---\n",
    "\n",
    "True or false: Git's only function is as a version control tool for code\n",
    "\n",
    "[] True\n",
    "\n",
    "[X] False"
   ]
  },
  {
   "cell_type": "markdown",
   "metadata": {},
   "source": [
    "---\n",
    "I want to obtain an update from the remote repository origin/master\n",
    "\n",
    "Which command(s) below achieve(s) this?\n",
    "\n",
    "[X] git pull origin master\n",
    "\n",
    "[] git clone origin master\n",
    "\n",
    "[X] git fetch origin master & git merge origin master\n",
    "\n",
    "[] git cherry pick origin master\n",
    "\n",
    "[] git diff origin master"
   ]
  }
 ],
 "metadata": {
  "language_info": {
   "name": "python"
  }
 },
 "nbformat": 4,
 "nbformat_minor": 2
}
