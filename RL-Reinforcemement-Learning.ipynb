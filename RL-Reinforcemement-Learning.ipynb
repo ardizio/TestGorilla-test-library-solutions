{
 "cells": [
  {
   "cell_type": "markdown",
   "metadata": {},
   "source": [
    "I'm designing a tic tac toe agent on a 3x3 board and want to incorporate Markov decision process into its transition logi.\n",
    "The game will be played between two agents, both wich will be in the training process.\n",
    "\n",
    "How many past completed states should each agent analyze before deciding wich move to make?\n",
    "\n",
    "[X] 1 [Current State]\n",
    "\n",
    "[] 2\n",
    "\n",
    "[] 3\n",
    "\n",
    "[] 9"
   ]
  },
  {
   "cell_type": "markdown",
   "metadata": {},
   "source": [
    "---\n",
    "\n",
    "I am developing a Q-Learning agent to play tic tac toe on a 3x3 board.\n",
    "The agent's decision determine the best cell to place its mark (x or o).\n",
    "I want to train the agent by updating its value function.\n",
    "\n",
    "How many states should I include in the Q-table?\n",
    "\n",
    "[] 3^2 = 9\n",
    "\n",
    "[] 2^9 = 512\n",
    "\n",
    "[] 3^6 = 729\n",
    "\n",
    "[X] 3^9 = 19683 (We have 9 cells, each cell can be empty, X or O. 3^9)\n"
   ]
  },
  {
   "cell_type": "markdown",
   "metadata": {},
   "source": [
    "---\n",
    "\n",
    "I am developing a RL agent and I have choosen to train it using deep Q-Learning.\n",
    "For each decision step, I want to calculate the expected values of actions and choose the one with the highest expected value.\n",
    "\n",
    "WWhich fucntions should I use in the decision making step to achieve this config?\n",
    "\n",
    "[X] Argmax (fnd the action with the highest expected Q-value)\n",
    "\n",
    "[] SoftMax (vector of scores to a probability distribution)\n",
    "\n",
    "[] Sigmoid (binary class) \n",
    "\n",
    "[] Tangent-hyperbolic (-1, 1)"
   ]
  },
  {
   "cell_type": "markdown",
   "metadata": {},
   "source": [
    "---\n",
    "\n",
    "I am developing an agent to play a game using maximum entropy RL.\n",
    "The game involves rolling six sided die to make decisions.\n",
    "I'm using a random stochasitc variable to represent the possible oucomes and want to calculate the entropy value.\n",
    "\n",
    "What is the rounded value for the described random variable?\n",
    "\n",
    "[X] 2.59\n",
    "\n",
    "[] 6.33\n",
    "\n",
    "[] 15.5\n",
    "\n",
    "[] 20.17\n",
    "\n",
    "\n",
    "H(X) = - Σ [P(x) * log2(P(x))]\n",
    "H(X) = -6 * [(1/6) * log2(1/6)] = -log2(1/6) ≈ 2.585"
   ]
  }
 ],
 "metadata": {
  "language_info": {
   "name": "python"
  }
 },
 "nbformat": 4,
 "nbformat_minor": 2
}
