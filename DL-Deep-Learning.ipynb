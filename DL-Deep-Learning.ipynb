{
 "cells": [
  {
   "cell_type": "markdown",
   "metadata": {},
   "source": [
    "I want to calculate the magintude of a vector (3,2,-1,5). \n",
    "I decide to calculate the L^1 norm of the vector to obtain its magnitude.\n",
    "\n",
    "What is the value of L^1?\n",
    "\n",
    "[] 5\n",
    "\n",
    "[] 9\n",
    "\n",
    "[X] 11\n",
    "\n",
    "[] 30\n",
    "\n",
    "\n",
    "L^1 (L1-norm or Manhattan norm) = |3| + |2| + |-1| + |5|  = 11"
   ]
  },
  {
   "cell_type": "markdown",
   "metadata": {},
   "source": [
    "---\n",
    "\n",
    "I am solving a multicalss classification task using Softmax as the activation function. \n",
    "The input received from the previous layer has shape 4x1.\n",
    "Now I need to design the output layer that will produce the values parsed trough the Softmax function.\n",
    "\n",
    "How many values will the output layer produce?\n",
    "\n",
    "[] 1\n",
    "\n",
    "[] 2\n",
    "\n",
    "[X] 4 (4verticalX1horizontal)\n",
    "\n",
    "[] 16\n"
   ]
  },
  {
   "cell_type": "markdown",
   "metadata": {},
   "source": [
    "---\n",
    "\n",
    "True or False: The optimal learning rate for the Adam Optimizer is 3e-4\n",
    "\n",
    "[] True\n",
    "\n",
    "[X] False (it can vary)"
   ]
  },
  {
   "cell_type": "markdown",
   "metadata": {},
   "source": [
    "---\n",
    "\n",
    "I have created a conbolutional neural network.\n",
    "During the execution, I have received an error message related to the input size of one of the hidden layers and now need to make fixes. The shape of the matrix coming from the previous layer is 36x36 and you apply a convolutional filter with size 3x3.\n",
    "\n",
    "What is the shape after applying convolution?\n",
    "\n",
    "[] 3\n",
    "\n",
    "[] 12\n",
    "\n",
    "[X] 34\n",
    "\n",
    "[] 108\n",
    "\n",
    "\n",
    "Output Size = (Input Size - Filter Size + 2 * Padding) / Stride + 1\n",
    "\n",
    "Input Size = 36x36\n",
    "Filter Size = 3x3\n",
    "Padding (assuming no padding) = 0\n",
    "Stride (assuming a stride of 1) = 1\n",
    "\n",
    "Output Size = (36 - 3 + 2 * 0) / 1 + 1 = 34"
   ]
  }
 ],
 "metadata": {
  "language_info": {
   "name": "python"
  }
 },
 "nbformat": 4,
 "nbformat_minor": 2
}
