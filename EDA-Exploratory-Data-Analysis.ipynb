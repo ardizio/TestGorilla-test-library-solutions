{
 "cells": [
  {
   "cell_type": "markdown",
   "metadata": {},
   "source": [
    "I analyze a dataset where each column signifies the attributes of caes.\n",
    "One column is the car price. Another is the car color. \n",
    "The car color column has 3 unique values: 'red', 'black, 'white'\n",
    "(the dataset contains cars if only 3 of these colors)\n",
    "\n",
    "How should I reshape the data in the car color column so that I can perform regression using price as dependent variable?\n",
    "\n",
    "[] Perform a one-hot encoding for any two colors\n",
    "\n",
    "[X] Perform a one-hot encodeing for all three colors\n",
    "\n",
    "[] Replace the color with numeric valus ('Red' as 1, 'Black' as 2, 'White' as 3)\n",
    "\n",
    "[] No transformation is required to perform the regression"
   ]
  },
  {
   "cell_type": "markdown",
   "metadata": {},
   "source": [
    "---\n",
    "I am visualizing data for multi-brand retail store\n",
    "\n",
    "The store sell 3 brands of moble phones and want to know the percentage contribution of sales for each brand for a  given time period.\n",
    "\n",
    "Which of the following charts should I use for the visualization?\n",
    "\n",
    "[] Area Chart\n",
    "\n",
    "[] Line Chart\n",
    "\n",
    "[X] Pie Chart \n",
    "\n",
    "[] Scatter Plot"
   ]
  },
  {
   "cell_type": "markdown",
   "metadata": {},
   "source": [
    "---\n",
    "I have a dataset with 40 independent columns and one depenent column.\n",
    "I decide to drop a few columns to aid stakeholders in determining wich attribure should concentrate on in order to optimize the output\n",
    "\n",
    "Which of the following techniques should I use to decide which columns to drop?\n",
    "\n",
    "[] A Pearson correlation of all independent columns with the dependent column and drop if the result is less than 0.5\n",
    "\n",
    "[] A Pearson correlation of all independent columns wiith the dependent column and drop if th eresult is greater than 0.5\n",
    "\n",
    "[] A multivariate regresion analysis and drop if the p value is less han 0.05 (given that alpha=0.05)\n",
    "\n",
    "[X] A multivariate regresion analysis and drop if the p value is greater than 0.05 (given that alpha = 0.05)"
   ]
  },
  {
   "cell_type": "markdown",
   "metadata": {},
   "source": [
    "--- \n",
    "gender: male/female\n",
    "test result:  pass/fail\n",
    "\n",
    "in a table with two columns gender, test result. A chi-square test can be used to determine if there is a statistically significant difference in the test results between male and female students.\n",
    "\n",
    "True or false?\n",
    "\n",
    "[X] True\n",
    "\n",
    "[] False"
   ]
  },
  {
   "cell_type": "markdown",
   "metadata": {},
   "source": []
  },
  {
   "cell_type": "markdown",
   "metadata": {},
   "source": []
  }
 ],
 "metadata": {
  "language_info": {
   "name": "python"
  }
 },
 "nbformat": 4,
 "nbformat_minor": 2
}
