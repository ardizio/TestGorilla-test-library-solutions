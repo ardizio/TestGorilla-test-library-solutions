{
 "cells": [
  {
   "cell_type": "markdown",
   "metadata": {},
   "source": [
    "I have a String word in my java code and I want to obtain count of the number of chars in it\n",
    "\n",
    "Wich version of the code accomplish that?\n",
    "\n",
    "[X] word.lenght()\n",
    "\n",
    "[] word.lenght\n",
    "\n",
    "[] word.size\n",
    "\n",
    "[] word.size()"
   ]
  },
  {
   "cell_type": "markdown",
   "metadata": {},
   "source": [
    "---\n",
    "I want to create an object of a class without providing any additional information to the constructor\n",
    "\n",
    "Wich type of constructor do I need to use?\n",
    "\n",
    "[] no-detail constructor\n",
    "\n",
    "[] default constructor\n",
    "\n",
    "[X] no-argument constructor\n",
    "\n",
    "[] static constructor"
   ]
  },
  {
   "cell_type": "markdown",
   "metadata": {},
   "source": [
    "---\n",
    "I want to declare an integer variavle var1 in a class such that will be visible only inside that class\n",
    "\n",
    "Which version of the code accomplish this?\n",
    "\n",
    "[] local int var1\n",
    "\n",
    "[] final int var1\n",
    "\n",
    "[] package int var1\n",
    "\n",
    "[X] private int var1"
   ]
  },
  {
   "cell_type": "markdown",
   "metadata": {},
   "source": [
    "---\n",
    "True or False: One method can contain multiple generic arguments\n",
    "\n",
    "[X] True\n",
    "\n",
    "[] False"
   ]
  }
 ],
 "metadata": {
  "language_info": {
   "name": "python"
  }
 },
 "nbformat": 4,
 "nbformat_minor": 2
}
