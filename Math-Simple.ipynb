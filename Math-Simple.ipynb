{
 "cells": [
  {
   "cell_type": "code",
   "execution_count": null,
   "metadata": {},
   "outputs": [],
   "source": [
    "print(8.64*0.25/5.4)"
   ]
  },
  {
   "cell_type": "code",
   "execution_count": 1,
   "metadata": {},
   "outputs": [
    {
     "name": "stdout",
     "output_type": "stream",
     "text": [
      "25.0\n",
      "400\n"
     ]
    }
   ],
   "source": [
    "jonny_rel = 100\n",
    "jane_rel_jonny = jonny_rel * 0.25\n",
    "print(jane_rel_jonny)\n",
    "\n",
    "jane_rel = 100\n",
    "jonny_rel_jane = jane_rel * 4\n",
    "print(jonny_rel_jane)"
   ]
  },
  {
   "cell_type": "code",
   "execution_count": 5,
   "metadata": {},
   "outputs": [
    {
     "name": "stdout",
     "output_type": "stream",
     "text": [
      "9050\n",
      "6\n",
      "6\n",
      "50\n"
     ]
    }
   ],
   "source": [
    "f = 2*24*60 + 45\n",
    "s = 24*60 + + 22*60 + 45\n",
    "t = 2*24*60 + 7 * 60 + 20\n",
    "\n",
    "combined = f + s + t\n",
    "day = combined // (24*60)\n",
    "print(day)\n",
    "combined = combined - day * (24*60)\n",
    "hours = combined // 60\n",
    "print(hours)\n",
    "minutes = combined - hours * (60)\n",
    "print(minutes)\n"
   ]
  }
 ],
 "metadata": {
  "kernelspec": {
   "display_name": "Python 3",
   "language": "python",
   "name": "python3"
  },
  "language_info": {
   "codemirror_mode": {
    "name": "ipython",
    "version": 3
   },
   "file_extension": ".py",
   "mimetype": "text/x-python",
   "name": "python",
   "nbconvert_exporter": "python",
   "pygments_lexer": "ipython3",
   "version": "3.11.6"
  }
 },
 "nbformat": 4,
 "nbformat_minor": 2
}
