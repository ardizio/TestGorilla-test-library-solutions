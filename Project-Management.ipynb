{
 "cells": [
  {
   "cell_type": "markdown",
   "metadata": {},
   "source": [
    "Which commercial model (compensation structure) most requires a well-defined scoper of work for the project team?\n",
    "\n",
    "[] Hourly charge-out rates (per hour)\n",
    "\n",
    "[X] Fixed Price (PREDETERMINDE)\n",
    "\n",
    "[] Upfront retainer (in advance)\n",
    "\n",
    "[] Contingent fee (after if completed)"
   ]
  },
  {
   "cell_type": "markdown",
   "metadata": {},
   "source": [
    "---\n",
    "\n",
    "Me and my client are considering a contigent fee for my next project together, meaning that my compensation will depend on how succesfull the project is.\n",
    "\n",
    "What are 3 key questions that need to be addressed to ensure a multi mutually-beneficial outcome?\n",
    "\n",
    "[X] How will the project success be objectely measured?\n",
    "\n",
    "[] Will the potential fee closely resemble the hourly reate fee I could ean otherwise?\n",
    "\n",
    "[x] Will a partial fee be paid for a partially succesfull project?\n",
    "\n",
    "[] How will the success be defined?\n",
    "\n",
    "[] Will the fee be paid in lump sum or in payments over time?\n",
    "\n",
    "[] Will there be a separate financial incentive for the project manager alone?\n",
    "\n",
    "[x] Is this project's risk/reward ratio acceptable for both organizations?"
   ]
  },
  {
   "cell_type": "markdown",
   "metadata": {},
   "source": [
    "---\n",
    "\n",
    "My project is 50% complete, and there has been a thee-week delay to aa task that was not on the critical path and had two weeks of slack.\n",
    "\n",
    "By how much should you expect the overall projecto to be delayed?\n",
    "\n",
    "[X] 0-weeks\n",
    "\n",
    "[] 1-week\n",
    "\n",
    "[] 3-weeks\n",
    "\n",
    "[] 5-weeks"
   ]
  },
  {
   "cell_type": "markdown",
   "metadata": {},
   "source": [
    "---\n",
    "\n",
    "Today, I am presenting my results to an external client and stakeholders from different departments within thir firm whom I have not met.\n",
    "I submitted the presentation and the accompayning full report to my client last week; they distributed both within their firm so that everyone could come prepared today with their questions.\n",
    "One of the less-influential stakeholders is monopolizing the Q&A period with basic questions, and I can see my client's growing frustation. My client is chairing the mmeting.\n",
    "\n",
    "How do I handle the situation?\n",
    "\n",
    "[] Point out the report section where this individual can dind their answers.\n",
    "\n",
    "[] Suggest that this individual give others a turn to ask questions.\n",
    "\n",
    "[] Politely answer evry question, no matter how basic.\n",
    "\n",
    "[X] Reframe this individual's questions toward the key outcomes to benefit the group.\n",
    "\n",
    "\n",
    "It depends."
   ]
  }
 ],
 "metadata": {
  "language_info": {
   "name": "python"
  }
 },
 "nbformat": 4,
 "nbformat_minor": 2
}
