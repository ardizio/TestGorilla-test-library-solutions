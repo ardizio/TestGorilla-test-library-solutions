{
 "cells": [
  {
   "cell_type": "markdown",
   "metadata": {},
   "source": [
    "I ran a MATLAB script that created multiple variables. \n",
    "I now want to remove all variables from the workspace to free up memory.\n",
    "Which of these statements ca I use to accomplish this?\n",
    "\n",
    "[] clc\n",
    "\n",
    "[X] clear\n",
    "\n",
    "[X] clear all\n",
    "\n",
    "[] delete \n",
    "\n",
    "[] clean vars"
   ]
  },
  {
   "cell_type": "markdown",
   "metadata": {},
   "source": [
    "---\n",
    "Easy equation to code"
   ]
  },
  {
   "cell_type": "markdown",
   "metadata": {},
   "source": [
    "---\n",
    "```\n",
    "temp=4;\n",
    "while(temp<9)\n",
    "disp('Hello world')\n",
    "temp=temp+2.5;\n",
    "end\n",
    "```\n",
    "\n",
    "\n",
    "How many times will the display command be executed? 2,3,4,9? \n",
    "\n",
    "My responese: 3 Times\n",
    "\n",
    "iter 1 - 4\n",
    "\n",
    "iter 2 - 6.5\n",
    "\n",
    "iter 3 - 9"
   ]
  },
  {
   "cell_type": "markdown",
   "metadata": {},
   "source": [
    "---\n",
    "I am provided with two vectors: 'age'  and 'weight'.\n",
    "I want to create a line plot, where age correspond to the x-axis and wheight correspond to the y axis\n",
    "\n",
    "Which of these statements should I use to accomplish this?\n",
    "\n",
    "[X] plot(age,weight)\n",
    "\n",
    "[] plot(weight,age)\n",
    "\n",
    "[] plot[(age,wight)]\n",
    "\n",
    "[] plot[(weight,age)]"
   ]
  }
 ],
 "metadata": {
  "language_info": {
   "name": "python"
  }
 },
 "nbformat": 4,
 "nbformat_minor": 2
}
