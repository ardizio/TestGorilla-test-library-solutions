{
 "cells": [
  {
   "cell_type": "markdown",
   "metadata": {},
   "source": [
    "I am building a high througput API for a criptocurrency trading platform.\n",
    "For this platform, this time is extremely important because microseconds count when processing high-volume trade orders.\n",
    "For communicating with the API,  I wnat to choose the verb that is fastest for read-only operations.\n",
    "\n",
    "What verb should I choose gor retrieving trade orders with the API sever?\n",
    "\n",
    "[] GET\n",
    "\n",
    "[] UPDATE\n",
    "\n",
    "[] POST\n",
    "\n",
    "[] DELETE"
   ]
  },
  {
   "cell_type": "markdown",
   "metadata": {},
   "source": [
    "---\n",
    "\n",
    "I work for a CRM company. \n",
    "The company clients gain CRM access trough a RESTful API. \n",
    "The CRM allows clients to add contact information for customer, prospect and related persons (virtual assitants or marketing directors)\n",
    "I want to choose an approriate API request path so clients can esaly retieve information for single contact while also being flexible for future software changes.\n",
    "\n",
    "Which of the following API paths should I use?\n",
    "\n",
    "[] /customers/{customer_id}\n",
    "\n",
    "[X] /contats/{contact_id}\n",
    "\n",
    "[] /contacts/{contat_type}/all\n",
    "\n",
    "[] /customers/all"
   ]
  },
  {
   "cell_type": "markdown",
   "metadata": {},
   "source": [
    "---\n",
    "I work for a large social media network, and I've been tasked with error handling for the API.\n",
    "I'm trying to decide on an approrpiate error code for authentication failures based on non existent users and incorrect passwords. I want to blance security against brute force attack with providing descriptive and true rror codes\n",
    "\n",
    "Which HTTP error code(s) should I use to keel the system secure and still repot that an error occurred?\n",
    "\n",
    "[] 404 if the user doesn't exits, 403 wrong password\n",
    "\n",
    "[] 403 usr does not exits, 401 if password is wrong\n",
    "\n",
    "[] 500 if user doesn't exits and password is wrong\n",
    "\n",
    "[X] 401 if the user doesn't exits or if the password is wrong\n"
   ]
  },
  {
   "cell_type": "markdown",
   "metadata": {},
   "source": [
    "---\n",
    "\n",
    "I'm writing documentation for requesting information about a given user in my system. My system uses UUIDs as identifiers. In my documentation, I want to show an example\n",
    "\n",
    "True or False: i should put a fake UUID into the example code instead of just the text \"UUID\" as placeholder\n",
    "\n",
    "[X] True\n",
    "\n",
    "[] False"
   ]
  }
 ],
 "metadata": {
  "language_info": {
   "name": "python"
  }
 },
 "nbformat": 4,
 "nbformat_minor": 2
}
