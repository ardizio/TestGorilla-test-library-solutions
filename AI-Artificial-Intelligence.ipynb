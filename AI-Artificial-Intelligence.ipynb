{
 "cells": [
  {
   "cell_type": "markdown",
   "metadata": {},
   "source": [
    "I am applying steepest descent hill-climbing for allocating elettric pillars in a given region.\n",
    "I haev the following values objective fucntion for the next possible moves.\n",
    "The current state's objective function value is 8.\n",
    "\n",
    "Which move should I pick?\n",
    "\n",
    "[] Move 1, ObjFuncVal = 12,3\n",
    "[X] Move 2, ObjFuncVal = 3,4  (has the lowes obj fucntion, improvement over current 8)\n",
    "[] Move 3, ObjFuncVal = 10\n",
    "[] Move 4, ObjFuncVal = 9,3"
   ]
  },
  {
   "cell_type": "markdown",
   "metadata": {},
   "source": [
    "---\n",
    "\n",
    "I am programming a game to play tic tac toe using adversarial search.\n",
    "I want to check wether the current game configuration endpoint is endpoint\n",
    "\n",
    "Which function from the formal definition of games should I use?\n",
    "\n",
    "[] Actions()\n",
    "\n",
    "[] Result()\n",
    "\n",
    "[X] Is-Terminal()\n",
    "\n",
    "[] Utility()"
   ]
  },
  {
   "cell_type": "markdown",
   "metadata": {},
   "source": [
    "---\n",
    "\n",
    "The problem I am investigating contains 8 possible models.\n",
    "Knowledge base (KB) is true in 5 those models. I want tocheck wheter KB entail sentence alpha\n",
    "\n",
    "In how many of the models where KB is true must alpah itself be true to be entailed from KB?\n",
    "\n",
    "[] 1\n",
    "\n",
    "[] 3\n",
    "\n",
    "[x] 5\n",
    "\n",
    "[] 8"
   ]
  },
  {
   "cell_type": "markdown",
   "metadata": {},
   "source": [
    "---\n",
    "\n",
    "I am designing a planning domain definition language problem and I have the following fluents: F1, F2 and F3\n",
    "\n",
    "Which of the following definitions describes the initial state of the problem?\n",
    "\n",
    "[] F1 v F2 v F3\n",
    "\n",
    "[] F1 ^ F2 v F3\n",
    "\n",
    "[] F1 v F2 ^ F3\n",
    "\n",
    "[X] F1 ^ F2 ^ F3\n"
   ]
  },
  {
   "cell_type": "code",
   "execution_count": 3,
   "metadata": {},
   "outputs": [
    {
     "name": "stdout",
     "output_type": "stream",
     "text": [
      "0.4\n"
     ]
    }
   ],
   "source": []
  }
 ],
 "metadata": {
  "kernelspec": {
   "display_name": "Python 3",
   "language": "python",
   "name": "python3"
  },
  "language_info": {
   "codemirror_mode": {
    "name": "ipython",
    "version": 3
   },
   "file_extension": ".py",
   "mimetype": "text/x-python",
   "name": "python",
   "nbconvert_exporter": "python",
   "pygments_lexer": "ipython3",
   "version": "3.11.6"
  }
 },
 "nbformat": 4,
 "nbformat_minor": 2
}
